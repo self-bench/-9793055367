{
 "cells": [
  {
   "cell_type": "code",
   "execution_count": 2,
   "metadata": {},
   "outputs": [],
   "source": [
    "import torch"
   ]
  },
  {
   "cell_type": "code",
   "execution_count": 24,
   "metadata": {},
   "outputs": [
    {
     "name": "stdout",
     "output_type": "stream",
     "text": [
      "tensor([5.0078], dtype=torch.float16)\n",
      "tensor([5.0078], dtype=torch.float16)\n"
     ]
    }
   ],
   "source": [
    "tensor1 = torch.tensor([0.05004], dtype=torch.float16)\n",
    "tensor2 = torch.tensor([0.05004], dtype=torch.float16)\n",
    "\n",
    "const1 = torch.tensor([100.06886], dtype=torch.float16)\n",
    "\n",
    "# show mutliplicaton\n",
    "\n",
    "print(tensor1 * const1)\n",
    "\n",
    "print(tensor2 * const1)"
   ]
  },
  {
   "cell_type": "code",
   "execution_count": null,
   "metadata": {},
   "outputs": [],
   "source": []
  }
 ],
 "metadata": {
  "kernelspec": {
   "display_name": "Python 3",
   "language": "python",
   "name": "python3"
  },
  "language_info": {
   "codemirror_mode": {
    "name": "ipython",
    "version": 3
   },
   "file_extension": ".py",
   "mimetype": "text/x-python",
   "name": "python",
   "nbconvert_exporter": "python",
   "pygments_lexer": "ipython3",
   "version": "3.10.14"
  }
 },
 "nbformat": 4,
 "nbformat_minor": 2
}
